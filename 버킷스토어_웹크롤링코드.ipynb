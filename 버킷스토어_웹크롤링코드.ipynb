{
 "cells": [
  {
   "cell_type": "markdown",
   "metadata": {},
   "source": [
    "# 모듈 로드하기"
   ]
  },
  {
   "cell_type": "code",
   "execution_count": 1,
   "metadata": {},
   "outputs": [],
   "source": [
    "from selenium import webdriver\n",
    "from selenium.webdriver.chrome.service import Service\n",
    "from selenium.webdriver.chrome.options import Options\n",
    "from selenium.webdriver.common.keys import Keys\n",
    "from selenium.webdriver.common.by import By\n",
    "from webdriver_manager.chrome import ChromeDriverManager\n",
    "import time\n",
    "from bs4 import BeautifulSoup\n",
    "from openpyxl import *\n",
    "import pandas as pd\n",
    "from selenium.webdriver.support.ui import WebDriverWait\n",
    "from selenium.webdriver.support import expected_conditions as EC\n",
    "import re\n"
   ]
  },
  {
   "cell_type": "markdown",
   "metadata": {},
   "source": [
    "# 제품명, 가격, 할인가, 브랜드 가져오는 코드"
   ]
  },
  {
   "cell_type": "code",
   "execution_count": 10,
   "metadata": {},
   "outputs": [],
   "source": [
    "options = Options()\n",
    "##\n",
    "# 크롬 브라우저 동작방식 설정\n",
    "options.add_argument(\"--start-maximized\") # 브라우저 전체화면\n",
    "options.add_experimental_option(\"detach\", True) # 셀레니움이 종료되어도 창이 자동으로 닫히지 않게 함.\n",
    "options.add_argument(\"--disable-blink-features=AutomationControlled\")\n",
    "##\n",
    "\n",
    "service = Service(ChromeDriverManager().install())\n",
    "driver = webdriver.Chrome(service=service, options=options)\n",
    "\n",
    "url = 'https://bucketstore.com/search/goods?search_keyword_list=%ED%95%91&order_type=best'\n",
    "driver.get(url)\n",
    "time.sleep(2)\n",
    "\n",
    "for i in range(1000):\n",
    "    driver.find_element(By.TAG_NAME,value=\"body\").send_keys(Keys.PAGE_DOWN) # 스크롤 한번 내리기\n",
    "    time.sleep(1.5)\n",
    "soup = BeautifulSoup(driver.page_source, 'html.parser')\n",
    "products = soup.find_all('div', 'Goods_name__EZ1Lc Goods_nameLine2__hMCQc')\n",
    "price = soup.find_all('div','Goods_priceWrapper__0EbDO')\n",
    "brand = soup.find_all('div', 'Goods_brand__X1tv4')\n",
    "\n",
    "# 중복 제거를 위한 set 활용\n",
    "product_set = set()\n",
    "product_list = []\n",
    "price_discounted = []  # 할인된 가격\n",
    "price_original = []  # 원래 가격\n",
    "brand_list = []\n",
    "\n",
    "for i, prod in enumerate(products):\n",
    "    prod_name = prod.text.strip()\n",
    "    if prod_name not in product_set:  # 중복이 아닐 경우만 추가\n",
    "        product_set.add(prod_name)\n",
    "        product_list.append(prod_name)\n",
    "        brand_list.append(brand[i].text.strip() if i < len(brand) else None)\n",
    "\n",
    "        # 가격 정보 가져오기\n",
    "        discounted = price[i].find('div', 'Goods_salePrice__iSxT6') if i < len(price) else None\n",
    "        original = price[i].find('div', 'Goods_tagPrice__VtznB') if i < len(price) else None\n",
    "\n",
    "        price_discounted.append(discounted.text.strip() if discounted else None)\n",
    "        price_original.append(original.text.strip() if original else None)\n",
    "\n",
    "# 데이터프레임 생성\n",
    "ping = pd.DataFrame({'제품명': product_list, '브랜드': brand_list, '원가': price_original, '할인된 가격': price_discounted})\n",
    "ping\n",
    "# 출력\n",
    "ping.to_csv('버킷스토어_핑의류데이터_250131.csv', index=False, encoding='utf-8-sig')"
   ]
  },
  {
   "cell_type": "markdown",
   "metadata": {},
   "source": [
    "# 제품명 10자 이내는 잘못들어온 데이터이기 때문에 제거하는 코드"
   ]
  },
  {
   "cell_type": "code",
   "execution_count": 17,
   "metadata": {},
   "outputs": [],
   "source": [
    "ping = ping[~ping['제품명'].str[:10].duplicated(keep='first')]"
   ]
  },
  {
   "cell_type": "markdown",
   "metadata": {},
   "source": [
    "# 제품명 데이터 저장"
   ]
  },
  {
   "cell_type": "code",
   "execution_count": 20,
   "metadata": {},
   "outputs": [],
   "source": [
    "ping.to_csv('버킷스토어_핑의류데이터_250131.csv', index=False, encoding='utf-8-sig')"
   ]
  },
  {
   "cell_type": "code",
   "execution_count": 2,
   "metadata": {},
   "outputs": [],
   "source": [
    "ping = pd.read_csv('버킷스토어_핑의류데이터_250131.csv')"
   ]
  },
  {
   "cell_type": "markdown",
   "metadata": {},
   "source": [
    "# 제품에 따른 리뷰 가져오는 함수"
   ]
  },
  {
   "cell_type": "code",
   "execution_count": null,
   "metadata": {},
   "outputs": [],
   "source": [
    "def burket(name):\n",
    "    try:            \n",
    "        url = f'https://bucketstore.com/search/goods?search_keyword_list={name}'\n",
    "        driver.get(url)\n",
    "        time.sleep(5)\n",
    "        \n",
    "        driver.find_element(By.TAG_NAME, value=\"body\").send_keys(Keys.PAGE_DOWN)  # 스크롤 한 번 내리기\n",
    "        time.sleep(1.5)\n",
    "\n",
    "        driver.find_element(By.CSS_SELECTOR, value='body > main > section.baseContents_innerSizeFull___BVbJ > section > div > div > div > div.SearchResultGoods_resultWrapper__ld4Y1 > div.SearchResultGoods_wrapper__OIW6s > div.SearchResultGoods_scroll__GdCkq > div.SearchResultGoods_goodsWrapper__dgFvc > section > section > div:nth-child(1) > div > div.Goods_thumbnailWrapper__nynPo').click()  # 제품 클릭\n",
    "        time.sleep(2)\n",
    "\n",
    "        #  리뷰 더보기 버튼이 나올 때까지 스크롤\n",
    "        max_scroll_attempts = 15  # 최대 스크롤 횟수 설정 (페이지에 따라 조정 가능)\n",
    "        scroll_count = 0\n",
    "\n",
    "        while scroll_count < max_scroll_attempts:\n",
    "            try:\n",
    "                review_button = driver.find_element(By.XPATH, value='/html/body/main/section[1]/section/div/section[2]/section[2]/div[3]/div[2]/button')\n",
    "                if review_button.is_displayed():\n",
    "                    review_button.click()\n",
    "                    time.sleep(1)\n",
    "                    break  # 버튼을 클릭했으면 루프 종료\n",
    "            except:\n",
    "                driver.find_element(By.TAG_NAME, value=\"body\").send_keys(Keys.PAGE_DOWN)  # 스크롤 다운\n",
    "                time.sleep(1)\n",
    "                scroll_count += 1\n",
    "\n",
    "        if scroll_count == max_scroll_attempts:\n",
    "            print(f\"'{name}' 리뷰 버튼 없음, 다음 제품으로 이동\")\n",
    "            return None  # 리뷰 버튼이 끝까지 안 나왔으면 종료\n",
    "\n",
    "        #  HTML 가져오기\n",
    "        soup = BeautifulSoup(driver.page_source, 'html.parser')\n",
    "        review = soup.find_all('div', 'customerReviewContents_text__YKiJb')\n",
    "        score = soup.find_all('span', 'customerReviewContents_starRateValue__qsPa0')\n",
    "        user = soup.find_all('div', 'customerReviewContents_reviewFooter__2tTin')\n",
    "\n",
    "        # 사용자 ID만 추출하는 함수\n",
    "        def extract_user_id(text):\n",
    "            return re.sub(r'\\d{4}\\.\\d{2}\\.\\d{2}', '', text).strip()  # YYYY.MM.DD 형식의 날짜 제거\n",
    "\n",
    "        # 중복 확인을 위한 set 생성\n",
    "        seen_users = set()\n",
    "        unique_reviews = []\n",
    "        unique_scores = []\n",
    "        unique_users = []\n",
    "\n",
    "        # 데이터 수집 및 중복 제거\n",
    "        for j, i, s in zip(review, score, user):\n",
    "            user_id = extract_user_id(s.text.strip())  # 사용자 ID 추출\n",
    "            if user_id not in seen_users:  # 중복되지 않은 사용자만 추가\n",
    "                seen_users.add(user_id)\n",
    "                unique_reviews.append(j.text.strip())\n",
    "                unique_scores.append(i.text.strip())\n",
    "                unique_users.append(user_id)\n",
    "\n",
    "        #  닫기 버튼 클릭\n",
    "        try:\n",
    "            close_button = driver.find_element(By.XPATH, value='/html/body/section[3]/section/div/div/div[2]')\n",
    "            close_button.click()\n",
    "            time.sleep(0.5)\n",
    "        except:\n",
    "            print(\"닫기 버튼을 찾을 수 없음\")\n",
    "\n",
    "        #  데이터프레임 생성\n",
    "        asd = pd.DataFrame({'리뷰': unique_reviews, '별점': unique_scores, '사용자': unique_users})\n",
    "        \n",
    "        return asd\n",
    "\n",
    "    except Exception as e:\n",
    "        print(\"오류 발생:\", e)\n",
    "        return None\n"
   ]
} 
